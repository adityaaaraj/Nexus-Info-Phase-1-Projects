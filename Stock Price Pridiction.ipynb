{
  "metadata": {
    "kernelspec": {
      "language": "python",
      "display_name": "Python 3",
      "name": "python3"
    },
    "language_info": {
      "name": "python",
      "version": "3.10.12",
      "mimetype": "text/x-python",
      "codemirror_mode": {
        "name": "ipython",
        "version": 3
      },
      "pygments_lexer": "ipython3",
      "nbconvert_exporter": "python",
      "file_extension": ".py"
    },
    "kaggle": {
      "accelerator": "none",
      "dataSources": [
        {
          "sourceId": 6320309,
          "sourceType": "datasetVersion",
          "datasetId": 1792171
        }
      ],
      "dockerImageVersionId": 30635,
      "isInternetEnabled": false,
      "language": "python",
      "sourceType": "notebook",
      "isGpuEnabled": false
    },
    "colab": {
      "provenance": []
    }
  },
  "nbformat_minor": 0,
  "nbformat": 4,
  "cells": [
    {
      "cell_type": "code",
      "source": [
        "# This Python 3 environment comes with many helpful analytics libraries installed\n",
        "# It is defined by the kaggle/python Docker image: https://github.com/kaggle/docker-python\n",
        "# For example, here's several helpful packages to load\n",
        "\n",
        "import numpy as np # linear algebra\n",
        "import pandas as pd # data processing, CSV file I/O (e.g. pd.read_csv)\n",
        "\n",
        "# Input data files are available in the read-only \"../input/\" directory\n",
        "# For example, running this (by clicking run or pressing Shift+Enter) will list all files under the input directory\n",
        "\n",
        "import os\n",
        "for dirname, _, filenames in os.walk('/kaggle/input'):\n",
        "    for filename in filenames:\n",
        "        print(os.path.join(dirname, filename))\n",
        "\n",
        "# You can write up to 20GB to the current directory (/kaggle/working/) that gets preserved as output when you create a version using \"Save & Run All\"\n",
        "# You can also write temporary files to /kaggle/temp/, but they won't be saved outside of the current session"
      ],
      "metadata": {
        "_uuid": "8f2839f25d086af736a60e9eeb907d3b93b6e0e5",
        "_cell_guid": "b1076dfc-b9ad-4769-8c92-a6c4dae69d19",
        "execution": {
          "iopub.status.busy": "2024-01-14T15:41:39.980774Z",
          "iopub.execute_input": "2024-01-14T15:41:39.981178Z",
          "iopub.status.idle": "2024-01-14T15:41:40.43873Z",
          "shell.execute_reply.started": "2024-01-14T15:41:39.981141Z",
          "shell.execute_reply": "2024-01-14T15:41:40.437617Z"
        },
        "trusted": true,
        "id": "4KW644Fj1_Fl"
      },
      "execution_count": null,
      "outputs": []
    },
    {
      "cell_type": "markdown",
      "source": [
        "Loading file to view the dataset\n",
        "\n"
      ],
      "metadata": {
        "id": "GvOXk-PV1_Fl"
      }
    },
    {
      "cell_type": "code",
      "source": [
        "df_stock = pd.read_csv('/kaggle/input/stock-market-prediction/infolimpioavanzadoTarget.csv')\n",
        "df_stock.head()"
      ],
      "metadata": {
        "execution": {
          "iopub.status.busy": "2024-01-14T16:08:04.760117Z",
          "iopub.execute_input": "2024-01-14T16:08:04.760509Z",
          "iopub.status.idle": "2024-01-14T16:08:09.002806Z",
          "shell.execute_reply.started": "2024-01-14T16:08:04.760479Z",
          "shell.execute_reply": "2024-01-14T16:08:09.001396Z"
        },
        "trusted": true,
        "id": "z9eKxM761_Fn"
      },
      "execution_count": null,
      "outputs": []
    },
    {
      "cell_type": "code",
      "source": [
        "df_stock.shape"
      ],
      "metadata": {
        "execution": {
          "iopub.status.busy": "2024-01-14T16:08:34.639089Z",
          "iopub.execute_input": "2024-01-14T16:08:34.639496Z",
          "iopub.status.idle": "2024-01-14T16:08:34.646977Z",
          "shell.execute_reply.started": "2024-01-14T16:08:34.639456Z",
          "shell.execute_reply": "2024-01-14T16:08:34.645753Z"
        },
        "trusted": true,
        "id": "voob1FyB1_Fn"
      },
      "execution_count": null,
      "outputs": []
    },
    {
      "cell_type": "code",
      "source": [
        "df_stock.info()"
      ],
      "metadata": {
        "execution": {
          "iopub.status.busy": "2024-01-14T16:08:49.455057Z",
          "iopub.execute_input": "2024-01-14T16:08:49.455486Z",
          "iopub.status.idle": "2024-01-14T16:08:49.537598Z",
          "shell.execute_reply.started": "2024-01-14T16:08:49.455453Z",
          "shell.execute_reply": "2024-01-14T16:08:49.536454Z"
        },
        "trusted": true,
        "id": "EPIHKTN21_Fn"
      },
      "execution_count": null,
      "outputs": []
    },
    {
      "cell_type": "code",
      "source": [
        "df_stock.describe()"
      ],
      "metadata": {
        "execution": {
          "iopub.status.busy": "2024-01-14T16:09:03.865055Z",
          "iopub.execute_input": "2024-01-14T16:09:03.86546Z",
          "iopub.status.idle": "2024-01-14T16:09:07.243662Z",
          "shell.execute_reply.started": "2024-01-14T16:09:03.865427Z",
          "shell.execute_reply": "2024-01-14T16:09:07.242574Z"
        },
        "trusted": true,
        "id": "IYmBHAPv1_Fo"
      },
      "execution_count": null,
      "outputs": []
    },
    {
      "cell_type": "code",
      "source": [
        "df_stock.isnull().sum()"
      ],
      "metadata": {
        "execution": {
          "iopub.status.busy": "2024-01-14T16:09:23.399834Z",
          "iopub.execute_input": "2024-01-14T16:09:23.400265Z",
          "iopub.status.idle": "2024-01-14T16:09:23.429542Z",
          "shell.execute_reply.started": "2024-01-14T16:09:23.400232Z",
          "shell.execute_reply": "2024-01-14T16:09:23.428264Z"
        },
        "trusted": true,
        "id": "lpTVDbQ-1_Fo"
      },
      "execution_count": null,
      "outputs": []
    },
    {
      "cell_type": "code",
      "source": [
        "data_new = df_stock[['date','open', 'high', 'low', 'close']]\n",
        "data_new"
      ],
      "metadata": {
        "execution": {
          "iopub.status.busy": "2024-01-14T16:10:07.193167Z",
          "iopub.execute_input": "2024-01-14T16:10:07.1937Z",
          "iopub.status.idle": "2024-01-14T16:10:07.219407Z",
          "shell.execute_reply.started": "2024-01-14T16:10:07.193658Z",
          "shell.execute_reply": "2024-01-14T16:10:07.218413Z"
        },
        "trusted": true,
        "id": "rUHlRCq51_Fo"
      },
      "execution_count": null,
      "outputs": []
    },
    {
      "cell_type": "code",
      "source": [
        "data_new.isnull().sum()"
      ],
      "metadata": {
        "execution": {
          "iopub.status.busy": "2024-01-14T16:10:25.065744Z",
          "iopub.execute_input": "2024-01-14T16:10:25.066185Z",
          "iopub.status.idle": "2024-01-14T16:10:25.076415Z",
          "shell.execute_reply.started": "2024-01-14T16:10:25.066149Z",
          "shell.execute_reply": "2024-01-14T16:10:25.075216Z"
        },
        "trusted": true,
        "id": "SgoO7KZ_1_Fp"
      },
      "execution_count": null,
      "outputs": []
    },
    {
      "cell_type": "code",
      "source": [
        "import seaborn as sns"
      ],
      "metadata": {
        "execution": {
          "iopub.status.busy": "2024-01-14T16:10:39.24436Z",
          "iopub.execute_input": "2024-01-14T16:10:39.244752Z",
          "iopub.status.idle": "2024-01-14T16:10:39.919429Z",
          "shell.execute_reply.started": "2024-01-14T16:10:39.244723Z",
          "shell.execute_reply": "2024-01-14T16:10:39.918258Z"
        },
        "trusted": true,
        "id": "wUbRGv9o1_Fp"
      },
      "execution_count": null,
      "outputs": []
    },
    {
      "cell_type": "code",
      "source": [
        "import matplotlib.pyplot as plt"
      ],
      "metadata": {
        "execution": {
          "iopub.status.busy": "2024-01-14T16:10:51.708577Z",
          "iopub.execute_input": "2024-01-14T16:10:51.709081Z",
          "iopub.status.idle": "2024-01-14T16:10:51.714847Z",
          "shell.execute_reply.started": "2024-01-14T16:10:51.70899Z",
          "shell.execute_reply": "2024-01-14T16:10:51.7133Z"
        },
        "trusted": true,
        "id": "4jubnJKJ1_Fp"
      },
      "execution_count": null,
      "outputs": []
    },
    {
      "cell_type": "markdown",
      "source": [
        "Adding another column to have the start stock value for the next day"
      ],
      "metadata": {
        "id": "3l2ZSb4N1_Fp"
      }
    },
    {
      "cell_type": "code",
      "source": [
        "data_new[\"tomorrow\"]= data_new[\"close\"].shift(-1)\n",
        "data_new"
      ],
      "metadata": {
        "execution": {
          "iopub.status.busy": "2024-01-14T16:18:55.089247Z",
          "iopub.execute_input": "2024-01-14T16:18:55.089704Z",
          "iopub.status.idle": "2024-01-14T16:18:55.111111Z",
          "shell.execute_reply.started": "2024-01-14T16:18:55.089673Z",
          "shell.execute_reply": "2024-01-14T16:18:55.109723Z"
        },
        "trusted": true,
        "id": "KteMIPLk1_Fq"
      },
      "execution_count": null,
      "outputs": []
    },
    {
      "cell_type": "markdown",
      "source": [
        "Creating a target to return a boolean from the difference in stock value from previous day"
      ],
      "metadata": {
        "id": "JIf6t5RX1_Fq"
      }
    },
    {
      "cell_type": "code",
      "source": [
        "data_new[\"target\"] = data_new[\"tomorrow\"] > data_new[\"close\"].astype(float)\n",
        "data_new"
      ],
      "metadata": {
        "execution": {
          "iopub.status.busy": "2024-01-14T16:19:21.695813Z",
          "iopub.execute_input": "2024-01-14T16:19:21.696271Z",
          "iopub.status.idle": "2024-01-14T16:19:21.721782Z",
          "shell.execute_reply.started": "2024-01-14T16:19:21.696236Z",
          "shell.execute_reply": "2024-01-14T16:19:21.720464Z"
        },
        "trusted": true,
        "id": "aIL2pQBi1_Fq"
      },
      "execution_count": null,
      "outputs": []
    },
    {
      "cell_type": "markdown",
      "source": [
        "Import Machine learning library which has less tendency to overfit and can detect non linear patterns."
      ],
      "metadata": {
        "id": "yCOH9YQm1_Fq"
      }
    },
    {
      "cell_type": "code",
      "source": [
        "from sklearn.ensemble import RandomForestClassifier"
      ],
      "metadata": {
        "execution": {
          "iopub.status.busy": "2024-01-14T16:19:37.750158Z",
          "iopub.execute_input": "2024-01-14T16:19:37.750565Z",
          "iopub.status.idle": "2024-01-14T16:19:38.368764Z",
          "shell.execute_reply.started": "2024-01-14T16:19:37.750536Z",
          "shell.execute_reply": "2024-01-14T16:19:38.367438Z"
        },
        "trusted": true,
        "id": "ql76Q7Wg1_Fq"
      },
      "execution_count": null,
      "outputs": []
    },
    {
      "cell_type": "code",
      "source": [
        "model = RandomForestClassifier(n_estimators=200, min_samples_split= 100, random_state=1)"
      ],
      "metadata": {
        "execution": {
          "iopub.status.busy": "2024-01-14T16:20:01.533559Z",
          "iopub.execute_input": "2024-01-14T16:20:01.533977Z",
          "iopub.status.idle": "2024-01-14T16:20:01.540115Z",
          "shell.execute_reply.started": "2024-01-14T16:20:01.533946Z",
          "shell.execute_reply": "2024-01-14T16:20:01.538639Z"
        },
        "trusted": true,
        "id": "98WX6_V_1_Fq"
      },
      "execution_count": null,
      "outputs": []
    },
    {
      "cell_type": "markdown",
      "source": [
        "Train set will have all the rows except the last 100 Test set will have only the last 100 rows\n",
        "\n"
      ],
      "metadata": {
        "id": "lz7pnhJA1_Fq"
      }
    },
    {
      "cell_type": "code",
      "source": [
        "train = data_new.iloc[:-100]\n",
        "test = data_new.iloc[-100:]"
      ],
      "metadata": {
        "execution": {
          "iopub.status.busy": "2024-01-14T16:20:16.546528Z",
          "iopub.execute_input": "2024-01-14T16:20:16.547001Z",
          "iopub.status.idle": "2024-01-14T16:20:16.555471Z",
          "shell.execute_reply.started": "2024-01-14T16:20:16.546954Z",
          "shell.execute_reply": "2024-01-14T16:20:16.554101Z"
        },
        "trusted": true,
        "id": "73ysKTht1_Fq"
      },
      "execution_count": null,
      "outputs": []
    },
    {
      "cell_type": "code",
      "source": [
        "predictors = [\"open\", \"high\", \"low\", \"close\"] #Exempt the datetime so that the model doesnt train on it. So as to prevent data leakage\n",
        "model.fit(train[predictors], train[\"target\"])"
      ],
      "metadata": {
        "execution": {
          "iopub.status.busy": "2024-01-14T16:22:58.445602Z",
          "iopub.execute_input": "2024-01-14T16:22:58.446059Z",
          "iopub.status.idle": "2024-01-14T16:23:02.323599Z",
          "shell.execute_reply.started": "2024-01-14T16:22:58.446025Z",
          "shell.execute_reply": "2024-01-14T16:23:02.322471Z"
        },
        "trusted": true,
        "id": "uaVsA4sc1_Fr"
      },
      "execution_count": null,
      "outputs": []
    },
    {
      "cell_type": "markdown",
      "source": [
        "Checking level of accuracy with precision_score\n",
        "\n"
      ],
      "metadata": {
        "id": "8-NPcXQN1_Fr"
      }
    },
    {
      "cell_type": "code",
      "source": [
        "from sklearn.metrics import precision_score"
      ],
      "metadata": {
        "execution": {
          "iopub.status.busy": "2024-01-14T16:24:05.138203Z",
          "iopub.execute_input": "2024-01-14T16:24:05.139542Z",
          "iopub.status.idle": "2024-01-14T16:24:05.145128Z",
          "shell.execute_reply.started": "2024-01-14T16:24:05.139495Z",
          "shell.execute_reply": "2024-01-14T16:24:05.143706Z"
        },
        "trusted": true,
        "id": "jIZNS0gu1_Fr"
      },
      "execution_count": null,
      "outputs": []
    },
    {
      "cell_type": "code",
      "source": [
        "pred = model.predict(test[predictors])"
      ],
      "metadata": {
        "execution": {
          "iopub.status.busy": "2024-01-14T16:24:15.982932Z",
          "iopub.execute_input": "2024-01-14T16:24:15.983316Z",
          "iopub.status.idle": "2024-01-14T16:24:16.01314Z",
          "shell.execute_reply.started": "2024-01-14T16:24:15.983287Z",
          "shell.execute_reply": "2024-01-14T16:24:16.011976Z"
        },
        "trusted": true,
        "id": "Jd7abS3c1_Fr"
      },
      "execution_count": null,
      "outputs": []
    },
    {
      "cell_type": "code",
      "source": [
        "pred"
      ],
      "metadata": {
        "execution": {
          "iopub.status.busy": "2024-01-14T16:24:28.686463Z",
          "iopub.execute_input": "2024-01-14T16:24:28.686933Z",
          "iopub.status.idle": "2024-01-14T16:24:28.694825Z",
          "shell.execute_reply.started": "2024-01-14T16:24:28.686885Z",
          "shell.execute_reply": "2024-01-14T16:24:28.69348Z"
        },
        "trusted": true,
        "id": "VrXwM1Dw1_Fr"
      },
      "execution_count": null,
      "outputs": []
    }
  ]
}